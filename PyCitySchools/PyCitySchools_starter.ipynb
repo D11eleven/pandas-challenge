{
 "cells": [
  {
   "cell_type": "markdown",
   "metadata": {},
   "source": [
    "### Note\n",
    "* Instructions have been included for each segment. You do not have to follow them exactly, but they are included to help you think through the steps."
   ]
  },
  {
   "cell_type": "code",
   "execution_count": null,
   "metadata": {},
   "outputs": [],
   "source": [
    "# Dependencies and Setup\n",
    "import pandas as pd\n",
    "\n",
    "# File to Load (Remember to Change These)\n",
    "school_data_to_load = \"Resources/schools_complete.csv\"\n",
    "student_data_to_load = \"Resources/students_complete.csv\"\n",
    "\n",
    "# Read School and Student Data File and store into Pandas DataFrames\n",
    "school_data = pd.read_csv(school_data_to_load)\n",
    "student_data = pd.read_csv(student_data_to_load)\n",
    "\n",
    "# Combine the data into a single dataset.  \n",
    "school_data_complete_df = pd.merge(student_data, school_data, how=\"left\", on=[\"school_name\", \"school_name\"])\n",
    "\n",
    "# school_data_complete.df\n",
    "# student_data\n",
    "# school_data.head()\n",
    "school_data_complete_df.head()\n"
   ]
  },
  {
   "cell_type": "code",
   "execution_count": null,
   "metadata": {},
   "outputs": [],
   "source": [
    "# #PDA\n",
    "# school_data_complete_df.shape\n",
    "# school_data_complete_df.describe()\n",
    "# #\n",
    "# school_data_complete_df.columns\n",
    "# school_data_complete_df.dtypes"
   ]
  },
  {
   "cell_type": "code",
   "execution_count": null,
   "metadata": {},
   "outputs": [],
   "source": []
  },
  {
   "cell_type": "code",
   "execution_count": null,
   "metadata": {},
   "outputs": [],
   "source": [
    "total_students = school_data_complete_df[\"Student ID\"].count()\n",
    "total_students"
   ]
  },
  {
   "cell_type": "code",
   "execution_count": null,
   "metadata": {},
   "outputs": [],
   "source": [
    "# total_schools_valuecounts = school_data_complete.df[\"School ID\"].value_counts()\n",
    "# total_schools = len(total_schools_valuecounts)\n",
    "# total_schools\n",
    "total_schools = len(school_data_complete_df[\"School ID\"].value_counts())\n",
    "total_schools"
   ]
  },
  {
   "cell_type": "code",
   "execution_count": null,
   "metadata": {},
   "outputs": [],
   "source": [
    "total_budget_unique = school_data_complete_df[\"budget\"].unique()\n",
    "total_budget = total_budget_unique.sum()\n",
    "total_budget"
   ]
  },
  {
   "cell_type": "code",
   "execution_count": null,
   "metadata": {},
   "outputs": [],
   "source": [
    "# avg_math_score\n",
    "avg_math_score = school_data_complete_df[\"math_score\"].mean()\n",
    "avg_math_score\n",
    "print(avg_math_score)\n",
    "# avg_reading_score\n",
    "avg_reading_score = school_data_complete_df[\"reading_score\"].mean()\n",
    "avg_reading_score\n",
    "print(avg_reading_score)\n",
    "# students_passing_math\n",
    "# SPM = school_data_complete.df\n",
    "#school_data_complete.df[\"Students Passing Math\"\n",
    "######\n",
    "# students_passing_reading\n",
    "\n",
    "#school_data_complete.df[\"Students Passing Reading\"\n",
    "#####\n",
    "# total_students\n",
    "# %_students_passing_math\n",
    "# %_students_passing_reading"
   ]
  },
  {
   "cell_type": "code",
   "execution_count": null,
   "metadata": {},
   "outputs": [],
   "source": [
    "school_data_complete_df['math_score']"
   ]
  },
  {
   "cell_type": "code",
   "execution_count": null,
   "metadata": {},
   "outputs": [],
   "source": [
    "\n",
    "stu_passng_math = school_data_complete_df.loc[school_data_complete_df[\"math_score\"] >= 70,[\"math_score\"]]\n",
    "#math_series = school_data_complete_df['math_score']\n",
    "\n",
    "# print(math_series)\n",
    "#stu_passng_math = math_series >= 70\n",
    "\n",
    "print(stu_passng_math)\n",
    "\n",
    "# # stu_passing_math = school_data_complete_df[\"math_score\"] >= 70\n",
    "\n",
    "number_stu_pass_math = stu_passng_math.count()\n",
    "#stu_passing_math_count = stu_passing_math.count()/total_students\n",
    "\n",
    "stu_passng_math_pct = (number_stu_pass_math)/(total_students)\n",
    "# # stu_passing_math_pct\n",
    "#print(number_stu_pass_math)\n",
    "stu_passng_math_pct"
   ]
  },
  {
   "cell_type": "code",
   "execution_count": null,
   "metadata": {},
   "outputs": [],
   "source": [
    "#stu_passng_reading = school_data_complete_df.iloc[school_data_complete_df[ : ,6] >= 70]\n",
    "\n",
    "stu_passng_reading = school_data_complete_df.loc[school_data_complete_df[\"reading_score\"] >= 70,[\"reading_score\"]]\n",
    "number_stu_pass_reading = stu_passng_reading.count()\n",
    "# stu_passing_math_count = stu_passing_math.count()/total_students\n",
    "\n",
    "stu_passng_reading_pct = (number_stu_pass_reading)/(total_students)\n",
    "# stu_passing_math_pct\n",
    "print(number_stu_pass_reading)\n",
    "stu_passng_reading_pct\n"
   ]
  },
  {
   "cell_type": "code",
   "execution_count": null,
   "metadata": {},
   "outputs": [],
   "source": [
    "stu_passng_both = school_data_complete_df.loc[(school_data_complete_df[\"math_score\"] >= 70) &\n",
    "                                          (school_data_complete_df[\"reading_score\"] >= 70)]\n",
    "#print(stu_passng_both)\n",
    "\n",
    "number_stu_overall_passng = stu_passng_both.count()\n",
    "#print (number_stu_overall_passng)\n",
    "stu_overall_passng_pct = (number_stu_overall_passng)/ (total_students)\n",
    "print(stu_overall_passng_pct)\n",
    "\n",
    "# school_data_complete_df.loc[school_data_complete_df[\"reading_score\"] >= 70,[\"reading_score\"]]\n",
    "\n",
    "# print(stu_passng_both)"
   ]
  },
  {
   "cell_type": "code",
   "execution_count": null,
   "metadata": {},
   "outputs": [],
   "source": [
    "district_summary_df = pd.DataFrame(\n",
    "    {\"Total Schools\": [total_schools],\n",
    "     \"Total Students\": [total_students],\n",
    "     \"Total Budget\": [\"${:,.2f}\".format(total_budget)], \n",
    "     \"AVG Math Score\": [avg_math_score],\n",
    "     \"AVG Reading Score\": [avg_reading_score],\n",
    "     \"% Passing Math\": [stu_passng_math_pct],\n",
    "     #\"% Passing Math\": [\"{:,.2}\".format(stu_passng_math_pct)],\n",
    "     #\"% Passing Math\": [\"{:,.0%}\".format(stu_passng_math_pct)],\n",
    "     \"% Passing Reading\": [stu_passng_reading_pct],\n",
    "     \"% Overall Passing\": [stu_overall_passng_pct]\n",
    "     \n",
    "    }\n",
    ")\n",
    "                                      \n",
    "district_summary_df\n"
   ]
  },
  {
   "cell_type": "code",
   "execution_count": null,
   "metadata": {},
   "outputs": [],
   "source": [
    "#OvERAll Passing PcT  \n",
    "# count of Students that passed Math AND Reading / Total Students\n",
    " \n",
    "#number_stu_pass_math and number_stu_pass_reading\n"
   ]
  },
  {
   "cell_type": "code",
   "execution_count": null,
   "metadata": {},
   "outputs": [],
   "source": [
    "District Summary\n",
    "\n",
    "    Calculate the total number of schools\n",
    "\n",
    "    Calculate the total number of students\n",
    "\n",
    "    Calculate the total budget\n",
    "\n",
    "    Calculate the average math score\n",
    "\n",
    "    Calculate the average reading score\n",
    "\n",
    "    Calculate the percentage of students with a passing math score (70 or greater)\n",
    "\n",
    "    Calculate the percentage of students with a passing reading score (70 or greater)\n",
    "\n",
    "    Calculate the percentage of students who passed math and reading (% Overall Passing)\n",
    "\n",
    "    Create a dataframe to hold the above results\n",
    "\n",
    "    Optional: give the displayed data cleaner formatting\n",
    "\n"
   ]
  },
  {
   "cell_type": "markdown",
   "metadata": {},
   "source": [
    "## School Summary"
   ]
  },
  {
   "cell_type": "markdown",
   "metadata": {},
   "source": [
    "* Create an overview table that summarizes key metrics about each school, including:\n",
    "  * School Name\n",
    "  * School Type\n",
    "  * Total Students\n",
    "  * Total School Budget\n",
    "  * Per Student Budget\n",
    "  * Average Math Score\n",
    "  * Average Reading Score\n",
    "  * % Passing Math\n",
    "  * % Passing Reading\n",
    "  * % Overall Passing (The percentage of students that passed math **and** reading.)\n",
    "  \n",
    "* Create a dataframe to hold the above results"
   ]
  },
  {
   "cell_type": "code",
   "execution_count": null,
   "metadata": {},
   "outputs": [],
   "source": []
  },
  {
   "cell_type": "markdown",
   "metadata": {},
   "source": [
    "## Top Performing Schools (By % Overall Passing)"
   ]
  },
  {
   "cell_type": "markdown",
   "metadata": {},
   "source": [
    "* Sort and display the top five performing schools by % overall passing."
   ]
  },
  {
   "cell_type": "code",
   "execution_count": null,
   "metadata": {
    "scrolled": true
   },
   "outputs": [],
   "source": []
  },
  {
   "cell_type": "markdown",
   "metadata": {},
   "source": [
    "## Bottom Performing Schools (By % Overall Passing)"
   ]
  },
  {
   "cell_type": "markdown",
   "metadata": {},
   "source": [
    "* Sort and display the five worst-performing schools by % overall passing."
   ]
  },
  {
   "cell_type": "code",
   "execution_count": null,
   "metadata": {},
   "outputs": [],
   "source": []
  },
  {
   "cell_type": "markdown",
   "metadata": {
    "collapsed": true
   },
   "source": [
    "## Math Scores by Grade"
   ]
  },
  {
   "cell_type": "markdown",
   "metadata": {},
   "source": [
    "* Create a table that lists the average Reading Score for students of each grade level (9th, 10th, 11th, 12th) at each school.\n",
    "\n",
    "  * Create a pandas series for each grade. Hint: use a conditional statement.\n",
    "  \n",
    "  * Group each series by school\n",
    "  \n",
    "  * Combine the series into a dataframe\n",
    "  \n",
    "  * Optional: give the displayed data cleaner formatting"
   ]
  },
  {
   "cell_type": "code",
   "execution_count": null,
   "metadata": {},
   "outputs": [],
   "source": []
  },
  {
   "cell_type": "markdown",
   "metadata": {},
   "source": [
    "## Reading Score by Grade "
   ]
  },
  {
   "cell_type": "markdown",
   "metadata": {},
   "source": [
    "* Perform the same operations as above for reading scores"
   ]
  },
  {
   "cell_type": "code",
   "execution_count": null,
   "metadata": {},
   "outputs": [],
   "source": []
  },
  {
   "cell_type": "markdown",
   "metadata": {},
   "source": [
    "## Scores by School Spending"
   ]
  },
  {
   "cell_type": "markdown",
   "metadata": {},
   "source": [
    "* Create a table that breaks down school performances based on average Spending Ranges (Per Student). Use 4 reasonable bins to group school spending. Include in the table each of the following:\n",
    "  * Average Math Score\n",
    "  * Average Reading Score\n",
    "  * % Passing Math\n",
    "  * % Passing Reading\n",
    "  * Overall Passing Rate (Average of the above two)"
   ]
  },
  {
   "cell_type": "code",
   "execution_count": null,
   "metadata": {},
   "outputs": [],
   "source": []
  },
  {
   "cell_type": "markdown",
   "metadata": {},
   "source": [
    "## Scores by School Size"
   ]
  },
  {
   "cell_type": "markdown",
   "metadata": {},
   "source": [
    "* Perform the same operations as above, based on school size."
   ]
  },
  {
   "cell_type": "code",
   "execution_count": null,
   "metadata": {
    "scrolled": true
   },
   "outputs": [],
   "source": []
  },
  {
   "cell_type": "markdown",
   "metadata": {},
   "source": [
    "## Scores by School Type"
   ]
  },
  {
   "cell_type": "markdown",
   "metadata": {},
   "source": [
    "* Perform the same operations as above, based on school type"
   ]
  },
  {
   "cell_type": "code",
   "execution_count": null,
   "metadata": {},
   "outputs": [],
   "source": []
  }
 ],
 "metadata": {
  "anaconda-cloud": {},
  "kernel_info": {
   "name": "python3"
  },
  "kernelspec": {
   "display_name": "Python [conda env:PythonData] *",
   "language": "python",
   "name": "conda-env-PythonData-py"
  },
  "language_info": {
   "codemirror_mode": {
    "name": "ipython",
    "version": 3
   },
   "file_extension": ".py",
   "mimetype": "text/x-python",
   "name": "python",
   "nbconvert_exporter": "python",
   "pygments_lexer": "ipython3",
   "version": "3.6.10"
  },
  "latex_envs": {
   "LaTeX_envs_menu_present": true,
   "autoclose": false,
   "autocomplete": true,
   "bibliofile": "biblio.bib",
   "cite_by": "apalike",
   "current_citInitial": 1,
   "eqLabelWithNumbers": true,
   "eqNumInitial": 1,
   "hotkeys": {
    "equation": "Ctrl-E",
    "itemize": "Ctrl-I"
   },
   "labels_anchors": false,
   "latex_user_defs": false,
   "report_style_numbering": false,
   "user_envs_cfg": false
  },
  "nteract": {
   "version": "0.8.4"
  }
 },
 "nbformat": 4,
 "nbformat_minor": 1
}
