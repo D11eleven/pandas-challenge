{
 "cells": [
  {
   "cell_type": "code",
   "execution_count": 6,
   "metadata": {},
   "outputs": [
    {
     "ename": "SyntaxError",
     "evalue": "invalid syntax (<ipython-input-6-62c1bebc1f47>, line 1)",
     "output_type": "error",
     "traceback": [
      "\u001b[1;36m  File \u001b[1;32m\"<ipython-input-6-62c1bebc1f47>\"\u001b[1;36m, line \u001b[1;32m1\u001b[0m\n\u001b[1;33m    District Summary\u001b[0m\n\u001b[1;37m                   ^\u001b[0m\n\u001b[1;31mSyntaxError\u001b[0m\u001b[1;31m:\u001b[0m invalid syntax\n"
     ]
    }
   ],
   "source": [
    "District Summary\n",
    "\n",
    "    Calculate the total number of schools\n",
    "\n",
    "    Calculate the total number of students\n",
    "\n",
    "    Calculate the total budget\n",
    "\n",
    "    Calculate the average math score\n",
    "\n",
    "    Calculate the average reading score\n",
    "\n",
    "    Calculate the percentage of students with a passing math score (70 or greater)\n",
    "\n",
    "    Calculate the percentage of students with a passing reading score (70 or greater)\n",
    "\n",
    "    Calculate the percentage of students who passed math and reading (% Overall Passing)\n",
    "\n",
    "    Create a dataframe to hold the above results\n",
    "\n",
    "    Optional: give the displayed data cleaner formatting\n",
    "\n"
   ]
  },
  {
   "cell_type": "markdown",
   "metadata": {},
   "source": [
    "### Note\n",
    "* Instructions have been included for each segment. You do not have to follow them exactly, but they are included to help you think through the steps."
   ]
  },
  {
   "cell_type": "code",
   "execution_count": 7,
   "metadata": {},
   "outputs": [
    {
     "data": {
      "text/html": [
       "<div>\n",
       "<style scoped>\n",
       "    .dataframe tbody tr th:only-of-type {\n",
       "        vertical-align: middle;\n",
       "    }\n",
       "\n",
       "    .dataframe tbody tr th {\n",
       "        vertical-align: top;\n",
       "    }\n",
       "\n",
       "    .dataframe thead th {\n",
       "        text-align: right;\n",
       "    }\n",
       "</style>\n",
       "<table border=\"1\" class=\"dataframe\">\n",
       "  <thead>\n",
       "    <tr style=\"text-align: right;\">\n",
       "      <th></th>\n",
       "      <th>Student ID</th>\n",
       "      <th>student_name</th>\n",
       "      <th>gender</th>\n",
       "      <th>grade</th>\n",
       "      <th>school_name</th>\n",
       "      <th>reading_score</th>\n",
       "      <th>math_score</th>\n",
       "      <th>School ID</th>\n",
       "      <th>type</th>\n",
       "      <th>size</th>\n",
       "      <th>budget</th>\n",
       "    </tr>\n",
       "  </thead>\n",
       "  <tbody>\n",
       "    <tr>\n",
       "      <th>0</th>\n",
       "      <td>0</td>\n",
       "      <td>Paul Bradley</td>\n",
       "      <td>M</td>\n",
       "      <td>9th</td>\n",
       "      <td>Huang High School</td>\n",
       "      <td>66</td>\n",
       "      <td>79</td>\n",
       "      <td>0</td>\n",
       "      <td>District</td>\n",
       "      <td>2917</td>\n",
       "      <td>1910635</td>\n",
       "    </tr>\n",
       "    <tr>\n",
       "      <th>1</th>\n",
       "      <td>1</td>\n",
       "      <td>Victor Smith</td>\n",
       "      <td>M</td>\n",
       "      <td>12th</td>\n",
       "      <td>Huang High School</td>\n",
       "      <td>94</td>\n",
       "      <td>61</td>\n",
       "      <td>0</td>\n",
       "      <td>District</td>\n",
       "      <td>2917</td>\n",
       "      <td>1910635</td>\n",
       "    </tr>\n",
       "    <tr>\n",
       "      <th>2</th>\n",
       "      <td>2</td>\n",
       "      <td>Kevin Rodriguez</td>\n",
       "      <td>M</td>\n",
       "      <td>12th</td>\n",
       "      <td>Huang High School</td>\n",
       "      <td>90</td>\n",
       "      <td>60</td>\n",
       "      <td>0</td>\n",
       "      <td>District</td>\n",
       "      <td>2917</td>\n",
       "      <td>1910635</td>\n",
       "    </tr>\n",
       "    <tr>\n",
       "      <th>3</th>\n",
       "      <td>3</td>\n",
       "      <td>Dr. Richard Scott</td>\n",
       "      <td>M</td>\n",
       "      <td>12th</td>\n",
       "      <td>Huang High School</td>\n",
       "      <td>67</td>\n",
       "      <td>58</td>\n",
       "      <td>0</td>\n",
       "      <td>District</td>\n",
       "      <td>2917</td>\n",
       "      <td>1910635</td>\n",
       "    </tr>\n",
       "    <tr>\n",
       "      <th>4</th>\n",
       "      <td>4</td>\n",
       "      <td>Bonnie Ray</td>\n",
       "      <td>F</td>\n",
       "      <td>9th</td>\n",
       "      <td>Huang High School</td>\n",
       "      <td>97</td>\n",
       "      <td>84</td>\n",
       "      <td>0</td>\n",
       "      <td>District</td>\n",
       "      <td>2917</td>\n",
       "      <td>1910635</td>\n",
       "    </tr>\n",
       "  </tbody>\n",
       "</table>\n",
       "</div>"
      ],
      "text/plain": [
       "   Student ID       student_name gender grade        school_name  \\\n",
       "0           0       Paul Bradley      M   9th  Huang High School   \n",
       "1           1       Victor Smith      M  12th  Huang High School   \n",
       "2           2    Kevin Rodriguez      M  12th  Huang High School   \n",
       "3           3  Dr. Richard Scott      M  12th  Huang High School   \n",
       "4           4         Bonnie Ray      F   9th  Huang High School   \n",
       "\n",
       "   reading_score  math_score  School ID      type  size   budget  \n",
       "0             66          79          0  District  2917  1910635  \n",
       "1             94          61          0  District  2917  1910635  \n",
       "2             90          60          0  District  2917  1910635  \n",
       "3             67          58          0  District  2917  1910635  \n",
       "4             97          84          0  District  2917  1910635  "
      ]
     },
     "execution_count": 7,
     "metadata": {},
     "output_type": "execute_result"
    }
   ],
   "source": [
    "# Dependencies and Setup\n",
    "import pandas as pd\n",
    "\n",
    "# File to Load (Remember to Change These)\n",
    "school_data_to_load = \"Resources/schools_complete.csv\"\n",
    "student_data_to_load = \"Resources/students_complete.csv\"\n",
    "\n",
    "# Read School and Student Data File and store into Pandas DataFrames\n",
    "school_data = pd.read_csv(school_data_to_load)\n",
    "student_data = pd.read_csv(student_data_to_load)\n",
    "\n",
    "# Combine the data into a single dataset.  \n",
    "school_data_complete_df = pd.merge(student_data, school_data, how=\"left\", on=[\"school_name\", \"school_name\"])\n",
    "\n",
    "# school_data_complete.df\n",
    "# student_data\n",
    "# school_data.head()\n",
    "school_data_complete_df.head()\n"
   ]
  },
  {
   "cell_type": "code",
   "execution_count": 46,
   "metadata": {},
   "outputs": [
    {
     "data": {
      "text/plain": [
       "Student ID        int64\n",
       "student_name     object\n",
       "gender           object\n",
       "grade            object\n",
       "reading_score     int64\n",
       "math_score        int64\n",
       "School ID         int64\n",
       "type             object\n",
       "size              int64\n",
       "budget            int64\n",
       "dtype: object"
      ]
     },
     "execution_count": 46,
     "metadata": {},
     "output_type": "execute_result"
    }
   ],
   "source": [
    "# #PDA\n",
    "# school_data_complete_df.shape\n",
    "# school_data_complete_df.describe()\n",
    "# #\n",
    "# school_data_complete_df.columns\n",
    " #school_data_complete_df.dtypes"
   ]
  },
  {
   "cell_type": "code",
   "execution_count": null,
   "metadata": {},
   "outputs": [],
   "source": []
  },
  {
   "cell_type": "code",
   "execution_count": 9,
   "metadata": {},
   "outputs": [
    {
     "data": {
      "text/plain": [
       "39170"
      ]
     },
     "execution_count": 9,
     "metadata": {},
     "output_type": "execute_result"
    }
   ],
   "source": [
    "total_students = school_data_complete_df[\"Student ID\"].count()\n",
    "total_students"
   ]
  },
  {
   "cell_type": "code",
   "execution_count": 10,
   "metadata": {},
   "outputs": [
    {
     "data": {
      "text/plain": [
       "15"
      ]
     },
     "execution_count": 10,
     "metadata": {},
     "output_type": "execute_result"
    }
   ],
   "source": [
    "# total_schools_valuecounts = school_data_complete.df[\"School ID\"].value_counts()\n",
    "# total_schools = len(total_schools_valuecounts)\n",
    "# total_schools\n",
    "total_schools = len(school_data_complete_df[\"School ID\"].value_counts())\n",
    "total_schools"
   ]
  },
  {
   "cell_type": "code",
   "execution_count": 11,
   "metadata": {},
   "outputs": [
    {
     "data": {
      "text/plain": [
       "24649428"
      ]
     },
     "execution_count": 11,
     "metadata": {},
     "output_type": "execute_result"
    }
   ],
   "source": [
    "total_budget_unique = school_data_complete_df[\"budget\"].unique()\n",
    "total_budget = total_budget_unique.sum()\n",
    "total_budget"
   ]
  },
  {
   "cell_type": "code",
   "execution_count": 12,
   "metadata": {},
   "outputs": [
    {
     "name": "stdout",
     "output_type": "stream",
     "text": [
      "78.98537145774827\n",
      "81.87784018381414\n"
     ]
    }
   ],
   "source": [
    "# avg_math_score\n",
    "avg_math_score = school_data_complete_df[\"math_score\"].mean()\n",
    "avg_math_score\n",
    "print(avg_math_score)\n",
    "# avg_reading_score\n",
    "avg_reading_score = school_data_complete_df[\"reading_score\"].mean()\n",
    "avg_reading_score\n",
    "print(avg_reading_score)\n",
    "# students_passing_math\n",
    "# SPM = school_data_complete.df\n",
    "#school_data_complete.df[\"Students Passing Math\"\n",
    "######\n",
    "# students_passing_reading\n",
    "\n",
    "#school_data_complete.df[\"Students Passing Reading\"\n",
    "#####\n",
    "# total_students\n",
    "# %_students_passing_math\n",
    "# %_students_passing_reading"
   ]
  },
  {
   "cell_type": "code",
   "execution_count": 13,
   "metadata": {},
   "outputs": [
    {
     "data": {
      "text/plain": [
       "0        79\n",
       "1        61\n",
       "2        60\n",
       "3        58\n",
       "4        84\n",
       "         ..\n",
       "39165    90\n",
       "39166    70\n",
       "39167    84\n",
       "39168    90\n",
       "39169    75\n",
       "Name: math_score, Length: 39170, dtype: int64"
      ]
     },
     "execution_count": 13,
     "metadata": {},
     "output_type": "execute_result"
    }
   ],
   "source": [
    "school_data_complete_df['math_score']"
   ]
  },
  {
   "cell_type": "code",
   "execution_count": 14,
   "metadata": {},
   "outputs": [
    {
     "name": "stdout",
     "output_type": "stream",
     "text": [
      "       math_score\n",
      "0              79\n",
      "4              84\n",
      "5              94\n",
      "6              80\n",
      "8              87\n",
      "...           ...\n",
      "39165          90\n",
      "39166          70\n",
      "39167          84\n",
      "39168          90\n",
      "39169          75\n",
      "\n",
      "[29370 rows x 1 columns]\n"
     ]
    },
    {
     "data": {
      "text/plain": [
       "math_score    0.749809\n",
       "dtype: float64"
      ]
     },
     "execution_count": 14,
     "metadata": {},
     "output_type": "execute_result"
    }
   ],
   "source": [
    "\n",
    "stu_passng_math = school_data_complete_df.loc[school_data_complete_df[\"math_score\"] >= 70,[\"math_score\"]]\n",
    "#math_series = school_data_complete_df['math_score']\n",
    "\n",
    "# print(math_series)\n",
    "#stu_passng_math = math_series >= 70\n",
    "\n",
    "print(stu_passng_math)\n",
    "\n",
    "# # stu_passing_math = school_data_complete_df[\"math_score\"] >= 70\n",
    "\n",
    "number_stu_pass_math = stu_passng_math.count()\n",
    "#stu_passing_math_count = stu_passing_math.count()/total_students\n",
    "\n",
    "stu_passng_math_pct = (number_stu_pass_math)/(total_students)\n",
    "# # stu_passing_math_pct\n",
    "#print(number_stu_pass_math)\n",
    "stu_passng_math_pct"
   ]
  },
  {
   "cell_type": "code",
   "execution_count": 15,
   "metadata": {},
   "outputs": [
    {
     "name": "stdout",
     "output_type": "stream",
     "text": [
      "reading_score    33610\n",
      "dtype: int64\n"
     ]
    },
    {
     "data": {
      "text/plain": [
       "reading_score    0.858055\n",
       "dtype: float64"
      ]
     },
     "execution_count": 15,
     "metadata": {},
     "output_type": "execute_result"
    }
   ],
   "source": [
    "\n",
    "stu_passng_reading = school_data_complete_df.loc[school_data_complete_df[\"reading_score\"] >= 70,[\"reading_score\"]]\n",
    "number_stu_pass_reading = stu_passng_reading.count()\n",
    "# stu_passing_math_count = stu_passing_math.count()/total_students\n",
    "\n",
    "stu_passng_reading_pct = (number_stu_pass_reading)/(total_students)\n",
    "# stu_passing_math_pct\n",
    "print(number_stu_pass_reading)\n",
    "stu_passng_reading_pct\n"
   ]
  },
  {
   "cell_type": "code",
   "execution_count": 47,
   "metadata": {},
   "outputs": [
    {
     "name": "stdout",
     "output_type": "stream",
     "text": [
      "Student ID       0.651723\n",
      "student_name     0.651723\n",
      "gender           0.651723\n",
      "grade            0.651723\n",
      "reading_score    0.651723\n",
      "math_score       0.651723\n",
      "School ID        0.651723\n",
      "type             0.651723\n",
      "size             0.651723\n",
      "budget           0.651723\n",
      "dtype: float64\n"
     ]
    }
   ],
   "source": [
    "stu_passng_both = school_data_complete_df.loc[(school_data_complete_df[\"math_score\"] >= 70) &\n",
    "                                          (school_data_complete_df[\"reading_score\"] >= 70)]\n",
    "#print(stu_passng_both)\n",
    "\n",
    "number_stu_overall_passng = stu_passng_both.count()\n",
    "#print (number_stu_overall_passng)\n",
    "stu_overall_passng_pct = (number_stu_overall_passng)/ (total_students)\n",
    "print(stu_overall_passng_pct)\n",
    "\n"
   ]
  },
  {
   "cell_type": "code",
   "execution_count": 17,
   "metadata": {},
   "outputs": [],
   "source": [
    "#OvERAll Passing PcT  \n",
    "# count of Students that passed Math AND Reading / Total Students\n",
    " \n",
    "#number_stu_pass_math and number_stu_pass_reading\n"
   ]
  },
  {
   "cell_type": "code",
   "execution_count": 18,
   "metadata": {},
   "outputs": [
    {
     "data": {
      "text/html": [
       "<div>\n",
       "<style scoped>\n",
       "    .dataframe tbody tr th:only-of-type {\n",
       "        vertical-align: middle;\n",
       "    }\n",
       "\n",
       "    .dataframe tbody tr th {\n",
       "        vertical-align: top;\n",
       "    }\n",
       "\n",
       "    .dataframe thead th {\n",
       "        text-align: right;\n",
       "    }\n",
       "</style>\n",
       "<table border=\"1\" class=\"dataframe\">\n",
       "  <thead>\n",
       "    <tr style=\"text-align: right;\">\n",
       "      <th></th>\n",
       "      <th>Total Schools</th>\n",
       "      <th>Total Students</th>\n",
       "      <th>Total Budget</th>\n",
       "      <th>AVG Math Score</th>\n",
       "      <th>AVG Reading Score</th>\n",
       "      <th>% Passing Math</th>\n",
       "      <th>% Passing Reading</th>\n",
       "      <th>% Overall Passing</th>\n",
       "    </tr>\n",
       "  </thead>\n",
       "  <tbody>\n",
       "    <tr>\n",
       "      <th>0</th>\n",
       "      <td>15</td>\n",
       "      <td>39170</td>\n",
       "      <td>$24,649,428.00</td>\n",
       "      <td>78.985371</td>\n",
       "      <td>81.87784</td>\n",
       "      <td>math_score    0.749809\n",
       "dtype: float64</td>\n",
       "      <td>reading_score    0.858055\n",
       "dtype: float64</td>\n",
       "      <td>Student ID       0.651723\n",
       "student_name     0.6...</td>\n",
       "    </tr>\n",
       "  </tbody>\n",
       "</table>\n",
       "</div>"
      ],
      "text/plain": [
       "   Total Schools  Total Students    Total Budget  AVG Math Score  \\\n",
       "0             15           39170  $24,649,428.00       78.985371   \n",
       "\n",
       "   AVG Reading Score                         % Passing Math  \\\n",
       "0           81.87784  math_score    0.749809\n",
       "dtype: float64   \n",
       "\n",
       "                          % Passing Reading  \\\n",
       "0  reading_score    0.858055\n",
       "dtype: float64   \n",
       "\n",
       "                                   % Overall Passing  \n",
       "0  Student ID       0.651723\n",
       "student_name     0.6...  "
      ]
     },
     "execution_count": 18,
     "metadata": {},
     "output_type": "execute_result"
    }
   ],
   "source": [
    "district_summary_df = pd.DataFrame(\n",
    "    {\"Total Schools\": [total_schools],\n",
    "     \"Total Students\": [total_students],\n",
    "     \"Total Budget\": [\"${:,.2f}\".format(total_budget)], \n",
    "     \"AVG Math Score\": [avg_math_score],\n",
    "     \"AVG Reading Score\": [avg_reading_score],\n",
    "     \"% Passing Math\": [stu_passng_math_pct],\n",
    "     #\"% Passing Math\": [\"{:,.2}\".format(stu_passng_math_pct)],\n",
    "     #\"% Passing Math\": [\"{:,.0%}\".format(stu_passng_math_pct)],\n",
    "     \"% Passing Reading\": [stu_passng_reading_pct],\n",
    "     \"% Overall Passing\": [stu_overall_passng_pct]\n",
    "     \n",
    "    }\n",
    ")\n",
    "                                      \n",
    "district_summary_df\n"
   ]
  },
  {
   "cell_type": "markdown",
   "metadata": {},
   "source": [
    "## School Summary"
   ]
  },
  {
   "cell_type": "markdown",
   "metadata": {},
   "source": [
    "* Create an overview table that summarizes key metrics about each school, including:\n",
    "  * School Name\n",
    "  * School Type\n",
    "  * Total Students\n",
    "  * Total School Budget\n",
    "  * Per Student Budget\n",
    "  * Average Math Score\n",
    "  * Average Reading Score\n",
    "  * % Passing Math\n",
    "  * % Passing Reading\n",
    "  * % Overall Passing (The percentage of students that passed math **and** reading.)\n",
    "  \n",
    "* Create a dataframe to hold the above results"
   ]
  },
  {
   "cell_type": "code",
   "execution_count": 19,
   "metadata": {},
   "outputs": [
    {
     "data": {
      "text/html": [
       "<div>\n",
       "<style scoped>\n",
       "    .dataframe tbody tr th:only-of-type {\n",
       "        vertical-align: middle;\n",
       "    }\n",
       "\n",
       "    .dataframe tbody tr th {\n",
       "        vertical-align: top;\n",
       "    }\n",
       "\n",
       "    .dataframe thead th {\n",
       "        text-align: right;\n",
       "    }\n",
       "</style>\n",
       "<table border=\"1\" class=\"dataframe\">\n",
       "  <thead>\n",
       "    <tr style=\"text-align: right;\">\n",
       "      <th></th>\n",
       "      <th>Student ID</th>\n",
       "      <th>student_name</th>\n",
       "      <th>gender</th>\n",
       "      <th>grade</th>\n",
       "      <th>school_name</th>\n",
       "      <th>reading_score</th>\n",
       "      <th>math_score</th>\n",
       "      <th>School ID</th>\n",
       "      <th>type</th>\n",
       "      <th>size</th>\n",
       "      <th>budget</th>\n",
       "    </tr>\n",
       "  </thead>\n",
       "  <tbody>\n",
       "    <tr>\n",
       "      <th>0</th>\n",
       "      <td>0</td>\n",
       "      <td>Paul Bradley</td>\n",
       "      <td>M</td>\n",
       "      <td>9th</td>\n",
       "      <td>Huang High School</td>\n",
       "      <td>66</td>\n",
       "      <td>79</td>\n",
       "      <td>0</td>\n",
       "      <td>District</td>\n",
       "      <td>2917</td>\n",
       "      <td>1910635</td>\n",
       "    </tr>\n",
       "    <tr>\n",
       "      <th>1</th>\n",
       "      <td>1</td>\n",
       "      <td>Victor Smith</td>\n",
       "      <td>M</td>\n",
       "      <td>12th</td>\n",
       "      <td>Huang High School</td>\n",
       "      <td>94</td>\n",
       "      <td>61</td>\n",
       "      <td>0</td>\n",
       "      <td>District</td>\n",
       "      <td>2917</td>\n",
       "      <td>1910635</td>\n",
       "    </tr>\n",
       "    <tr>\n",
       "      <th>2</th>\n",
       "      <td>2</td>\n",
       "      <td>Kevin Rodriguez</td>\n",
       "      <td>M</td>\n",
       "      <td>12th</td>\n",
       "      <td>Huang High School</td>\n",
       "      <td>90</td>\n",
       "      <td>60</td>\n",
       "      <td>0</td>\n",
       "      <td>District</td>\n",
       "      <td>2917</td>\n",
       "      <td>1910635</td>\n",
       "    </tr>\n",
       "    <tr>\n",
       "      <th>3</th>\n",
       "      <td>3</td>\n",
       "      <td>Dr. Richard Scott</td>\n",
       "      <td>M</td>\n",
       "      <td>12th</td>\n",
       "      <td>Huang High School</td>\n",
       "      <td>67</td>\n",
       "      <td>58</td>\n",
       "      <td>0</td>\n",
       "      <td>District</td>\n",
       "      <td>2917</td>\n",
       "      <td>1910635</td>\n",
       "    </tr>\n",
       "    <tr>\n",
       "      <th>4</th>\n",
       "      <td>4</td>\n",
       "      <td>Bonnie Ray</td>\n",
       "      <td>F</td>\n",
       "      <td>9th</td>\n",
       "      <td>Huang High School</td>\n",
       "      <td>97</td>\n",
       "      <td>84</td>\n",
       "      <td>0</td>\n",
       "      <td>District</td>\n",
       "      <td>2917</td>\n",
       "      <td>1910635</td>\n",
       "    </tr>\n",
       "  </tbody>\n",
       "</table>\n",
       "</div>"
      ],
      "text/plain": [
       "   Student ID       student_name gender grade        school_name  \\\n",
       "0           0       Paul Bradley      M   9th  Huang High School   \n",
       "1           1       Victor Smith      M  12th  Huang High School   \n",
       "2           2    Kevin Rodriguez      M  12th  Huang High School   \n",
       "3           3  Dr. Richard Scott      M  12th  Huang High School   \n",
       "4           4         Bonnie Ray      F   9th  Huang High School   \n",
       "\n",
       "   reading_score  math_score  School ID      type  size   budget  \n",
       "0             66          79          0  District  2917  1910635  \n",
       "1             94          61          0  District  2917  1910635  \n",
       "2             90          60          0  District  2917  1910635  \n",
       "3             67          58          0  District  2917  1910635  \n",
       "4             97          84          0  District  2917  1910635  "
      ]
     },
     "execution_count": 19,
     "metadata": {},
     "output_type": "execute_result"
    }
   ],
   "source": [
    "school_data_complete_df.head()"
   ]
  },
  {
   "cell_type": "code",
   "execution_count": 20,
   "metadata": {},
   "outputs": [
    {
     "data": {
      "text/plain": [
       "Index(['Student ID', 'student_name', 'gender', 'grade', 'school_name',\n",
       "       'reading_score', 'math_score', 'School ID', 'type', 'size', 'budget'],\n",
       "      dtype='object')"
      ]
     },
     "execution_count": 20,
     "metadata": {},
     "output_type": "execute_result"
    }
   ],
   "source": [
    "school_data_complete_df.columns"
   ]
  },
  {
   "cell_type": "code",
   "execution_count": 21,
   "metadata": {},
   "outputs": [
    {
     "data": {
      "text/plain": [
       "15"
      ]
     },
     "execution_count": 21,
     "metadata": {},
     "output_type": "execute_result"
    }
   ],
   "source": [
    "school_num = school_data_complete_df[\"school_name\"].value_counts()\n",
    "school_num\n",
    "\n",
    "school_num_count = school_num.count()\n",
    "school_num_count"
   ]
  },
  {
   "cell_type": "code",
   "execution_count": 32,
   "metadata": {},
   "outputs": [
    {
     "data": {
      "text/html": [
       "<div>\n",
       "<style scoped>\n",
       "    .dataframe tbody tr th:only-of-type {\n",
       "        vertical-align: middle;\n",
       "    }\n",
       "\n",
       "    .dataframe tbody tr th {\n",
       "        vertical-align: top;\n",
       "    }\n",
       "\n",
       "    .dataframe thead th {\n",
       "        text-align: right;\n",
       "    }\n",
       "</style>\n",
       "<table border=\"1\" class=\"dataframe\">\n",
       "  <thead>\n",
       "    <tr style=\"text-align: right;\">\n",
       "      <th></th>\n",
       "      <th>Student ID</th>\n",
       "      <th>student_name</th>\n",
       "      <th>gender</th>\n",
       "      <th>grade</th>\n",
       "      <th>reading_score</th>\n",
       "      <th>math_score</th>\n",
       "      <th>School ID</th>\n",
       "      <th>type</th>\n",
       "      <th>size</th>\n",
       "      <th>budget</th>\n",
       "    </tr>\n",
       "    <tr>\n",
       "      <th>school_name</th>\n",
       "      <th></th>\n",
       "      <th></th>\n",
       "      <th></th>\n",
       "      <th></th>\n",
       "      <th></th>\n",
       "      <th></th>\n",
       "      <th></th>\n",
       "      <th></th>\n",
       "      <th></th>\n",
       "      <th></th>\n",
       "    </tr>\n",
       "  </thead>\n",
       "  <tbody>\n",
       "    <tr>\n",
       "      <th>Bailey High School</th>\n",
       "      <td>4976</td>\n",
       "      <td>4976</td>\n",
       "      <td>4976</td>\n",
       "      <td>4976</td>\n",
       "      <td>4976</td>\n",
       "      <td>4976</td>\n",
       "      <td>4976</td>\n",
       "      <td>4976</td>\n",
       "      <td>4976</td>\n",
       "      <td>4976</td>\n",
       "    </tr>\n",
       "    <tr>\n",
       "      <th>Cabrera High School</th>\n",
       "      <td>1858</td>\n",
       "      <td>1858</td>\n",
       "      <td>1858</td>\n",
       "      <td>1858</td>\n",
       "      <td>1858</td>\n",
       "      <td>1858</td>\n",
       "      <td>1858</td>\n",
       "      <td>1858</td>\n",
       "      <td>1858</td>\n",
       "      <td>1858</td>\n",
       "    </tr>\n",
       "    <tr>\n",
       "      <th>Figueroa High School</th>\n",
       "      <td>2949</td>\n",
       "      <td>2949</td>\n",
       "      <td>2949</td>\n",
       "      <td>2949</td>\n",
       "      <td>2949</td>\n",
       "      <td>2949</td>\n",
       "      <td>2949</td>\n",
       "      <td>2949</td>\n",
       "      <td>2949</td>\n",
       "      <td>2949</td>\n",
       "    </tr>\n",
       "    <tr>\n",
       "      <th>Ford High School</th>\n",
       "      <td>2739</td>\n",
       "      <td>2739</td>\n",
       "      <td>2739</td>\n",
       "      <td>2739</td>\n",
       "      <td>2739</td>\n",
       "      <td>2739</td>\n",
       "      <td>2739</td>\n",
       "      <td>2739</td>\n",
       "      <td>2739</td>\n",
       "      <td>2739</td>\n",
       "    </tr>\n",
       "    <tr>\n",
       "      <th>Griffin High School</th>\n",
       "      <td>1468</td>\n",
       "      <td>1468</td>\n",
       "      <td>1468</td>\n",
       "      <td>1468</td>\n",
       "      <td>1468</td>\n",
       "      <td>1468</td>\n",
       "      <td>1468</td>\n",
       "      <td>1468</td>\n",
       "      <td>1468</td>\n",
       "      <td>1468</td>\n",
       "    </tr>\n",
       "    <tr>\n",
       "      <th>Hernandez High School</th>\n",
       "      <td>4635</td>\n",
       "      <td>4635</td>\n",
       "      <td>4635</td>\n",
       "      <td>4635</td>\n",
       "      <td>4635</td>\n",
       "      <td>4635</td>\n",
       "      <td>4635</td>\n",
       "      <td>4635</td>\n",
       "      <td>4635</td>\n",
       "      <td>4635</td>\n",
       "    </tr>\n",
       "    <tr>\n",
       "      <th>Holden High School</th>\n",
       "      <td>427</td>\n",
       "      <td>427</td>\n",
       "      <td>427</td>\n",
       "      <td>427</td>\n",
       "      <td>427</td>\n",
       "      <td>427</td>\n",
       "      <td>427</td>\n",
       "      <td>427</td>\n",
       "      <td>427</td>\n",
       "      <td>427</td>\n",
       "    </tr>\n",
       "    <tr>\n",
       "      <th>Huang High School</th>\n",
       "      <td>2917</td>\n",
       "      <td>2917</td>\n",
       "      <td>2917</td>\n",
       "      <td>2917</td>\n",
       "      <td>2917</td>\n",
       "      <td>2917</td>\n",
       "      <td>2917</td>\n",
       "      <td>2917</td>\n",
       "      <td>2917</td>\n",
       "      <td>2917</td>\n",
       "    </tr>\n",
       "    <tr>\n",
       "      <th>Johnson High School</th>\n",
       "      <td>4761</td>\n",
       "      <td>4761</td>\n",
       "      <td>4761</td>\n",
       "      <td>4761</td>\n",
       "      <td>4761</td>\n",
       "      <td>4761</td>\n",
       "      <td>4761</td>\n",
       "      <td>4761</td>\n",
       "      <td>4761</td>\n",
       "      <td>4761</td>\n",
       "    </tr>\n",
       "    <tr>\n",
       "      <th>Pena High School</th>\n",
       "      <td>962</td>\n",
       "      <td>962</td>\n",
       "      <td>962</td>\n",
       "      <td>962</td>\n",
       "      <td>962</td>\n",
       "      <td>962</td>\n",
       "      <td>962</td>\n",
       "      <td>962</td>\n",
       "      <td>962</td>\n",
       "      <td>962</td>\n",
       "    </tr>\n",
       "    <tr>\n",
       "      <th>Rodriguez High School</th>\n",
       "      <td>3999</td>\n",
       "      <td>3999</td>\n",
       "      <td>3999</td>\n",
       "      <td>3999</td>\n",
       "      <td>3999</td>\n",
       "      <td>3999</td>\n",
       "      <td>3999</td>\n",
       "      <td>3999</td>\n",
       "      <td>3999</td>\n",
       "      <td>3999</td>\n",
       "    </tr>\n",
       "    <tr>\n",
       "      <th>Shelton High School</th>\n",
       "      <td>1761</td>\n",
       "      <td>1761</td>\n",
       "      <td>1761</td>\n",
       "      <td>1761</td>\n",
       "      <td>1761</td>\n",
       "      <td>1761</td>\n",
       "      <td>1761</td>\n",
       "      <td>1761</td>\n",
       "      <td>1761</td>\n",
       "      <td>1761</td>\n",
       "    </tr>\n",
       "    <tr>\n",
       "      <th>Thomas High School</th>\n",
       "      <td>1635</td>\n",
       "      <td>1635</td>\n",
       "      <td>1635</td>\n",
       "      <td>1635</td>\n",
       "      <td>1635</td>\n",
       "      <td>1635</td>\n",
       "      <td>1635</td>\n",
       "      <td>1635</td>\n",
       "      <td>1635</td>\n",
       "      <td>1635</td>\n",
       "    </tr>\n",
       "    <tr>\n",
       "      <th>Wilson High School</th>\n",
       "      <td>2283</td>\n",
       "      <td>2283</td>\n",
       "      <td>2283</td>\n",
       "      <td>2283</td>\n",
       "      <td>2283</td>\n",
       "      <td>2283</td>\n",
       "      <td>2283</td>\n",
       "      <td>2283</td>\n",
       "      <td>2283</td>\n",
       "      <td>2283</td>\n",
       "    </tr>\n",
       "    <tr>\n",
       "      <th>Wright High School</th>\n",
       "      <td>1800</td>\n",
       "      <td>1800</td>\n",
       "      <td>1800</td>\n",
       "      <td>1800</td>\n",
       "      <td>1800</td>\n",
       "      <td>1800</td>\n",
       "      <td>1800</td>\n",
       "      <td>1800</td>\n",
       "      <td>1800</td>\n",
       "      <td>1800</td>\n",
       "    </tr>\n",
       "  </tbody>\n",
       "</table>\n",
       "</div>"
      ],
      "text/plain": [
       "                       Student ID  student_name  gender  grade  reading_score  \\\n",
       "school_name                                                                     \n",
       "Bailey High School           4976          4976    4976   4976           4976   \n",
       "Cabrera High School          1858          1858    1858   1858           1858   \n",
       "Figueroa High School         2949          2949    2949   2949           2949   \n",
       "Ford High School             2739          2739    2739   2739           2739   \n",
       "Griffin High School          1468          1468    1468   1468           1468   \n",
       "Hernandez High School        4635          4635    4635   4635           4635   \n",
       "Holden High School            427           427     427    427            427   \n",
       "Huang High School            2917          2917    2917   2917           2917   \n",
       "Johnson High School          4761          4761    4761   4761           4761   \n",
       "Pena High School              962           962     962    962            962   \n",
       "Rodriguez High School        3999          3999    3999   3999           3999   \n",
       "Shelton High School          1761          1761    1761   1761           1761   \n",
       "Thomas High School           1635          1635    1635   1635           1635   \n",
       "Wilson High School           2283          2283    2283   2283           2283   \n",
       "Wright High School           1800          1800    1800   1800           1800   \n",
       "\n",
       "                       math_score  School ID  type  size  budget  \n",
       "school_name                                                       \n",
       "Bailey High School           4976       4976  4976  4976    4976  \n",
       "Cabrera High School          1858       1858  1858  1858    1858  \n",
       "Figueroa High School         2949       2949  2949  2949    2949  \n",
       "Ford High School             2739       2739  2739  2739    2739  \n",
       "Griffin High School          1468       1468  1468  1468    1468  \n",
       "Hernandez High School        4635       4635  4635  4635    4635  \n",
       "Holden High School            427        427   427   427     427  \n",
       "Huang High School            2917       2917  2917  2917    2917  \n",
       "Johnson High School          4761       4761  4761  4761    4761  \n",
       "Pena High School              962        962   962   962     962  \n",
       "Rodriguez High School        3999       3999  3999  3999    3999  \n",
       "Shelton High School          1761       1761  1761  1761    1761  \n",
       "Thomas High School           1635       1635  1635  1635    1635  \n",
       "Wilson High School           2283       2283  2283  2283    2283  \n",
       "Wright High School           1800       1800  1800  1800    1800  "
      ]
     },
     "execution_count": 32,
     "metadata": {},
     "output_type": "execute_result"
    }
   ],
   "source": [
    "#school_data_complete_df.set_index(\"school_name\")\n",
    "#school_data_complete_df = school_data_complete_df.set_index(\"school_name\")\n",
    "\n",
    "\n",
    "#group schools by name\n",
    "grouped_schools = school_data_complete_df.groupby([\"school_name\"])\n",
    "grouped_schools.count()\n",
    "\n",
    "\n",
    "# grouped_schools = school_data_complete_df.groupby([\"school_name\", \"type\"])\n",
    "# grouped_schools.count()\n",
    "\n"
   ]
  },
  {
   "cell_type": "code",
   "execution_count": 23,
   "metadata": {},
   "outputs": [
    {
     "name": "stdout",
     "output_type": "stream",
     "text": [
      "school_name\n",
      "Bailey High School       77.048432\n",
      "Cabrera High School      83.061895\n",
      "Figueroa High School     76.711767\n",
      "Ford High School         77.102592\n",
      "Griffin High School      83.351499\n",
      "Hernandez High School    77.289752\n",
      "Holden High School       83.803279\n",
      "Huang High School        76.629414\n",
      "Johnson High School      77.072464\n",
      "Pena High School         83.839917\n",
      "Rodriguez High School    76.842711\n",
      "Shelton High School      83.359455\n",
      "Thomas High School       83.418349\n",
      "Wilson High School       83.274201\n",
      "Wright High School       83.682222\n",
      "Name: math_score, dtype: float64\n",
      "school_name\n",
      "Bailey High School       81.033963\n",
      "Cabrera High School      83.975780\n",
      "Figueroa High School     81.158020\n",
      "Ford High School         80.746258\n",
      "Griffin High School      83.816757\n",
      "Hernandez High School    80.934412\n",
      "Holden High School       83.814988\n",
      "Huang High School        81.182722\n",
      "Johnson High School      80.966394\n",
      "Pena High School         84.044699\n",
      "Rodriguez High School    80.744686\n",
      "Shelton High School      83.725724\n",
      "Thomas High School       83.848930\n",
      "Wilson High School       83.989488\n",
      "Wright High School       83.955000\n",
      "Name: reading_score, dtype: float64\n"
     ]
    }
   ],
   "source": [
    "#Calc\n",
    "#school_total_students\n",
    "school_total_students = grouped_schools[\"Student ID\"].count()\n",
    "#print(school_total_students)\n",
    "\n",
    "#school_type\n",
    "school_type = grouped_schools[\"type\"].unique()\n",
    "#print(school_type)\n",
    "\n",
    "\n",
    "# total_school_budget\n",
    "total_school_budget = grouped_schools[\"budget\"].mean()\n",
    "#print(total_school_budget)\n",
    "\n",
    "# # per_student_budget\n",
    "per_student_budget = (total_school_budget/school_total_students)\n",
    "#print(per_student_budget)\n",
    "\n",
    "\n",
    "# # school_avg_math_score\n",
    "school_avg_math_score = grouped_schools[\"math_score\"].mean()\n",
    "print(school_avg_math_score)\n",
    "\n",
    "# # school_avg_reading_score\n",
    "school_avg_reading_score = grouped_schools[\"reading_score\"].mean()\n",
    "print(school_avg_reading_score)                                           \n"
   ]
  },
  {
   "cell_type": "code",
   "execution_count": 24,
   "metadata": {},
   "outputs": [
    {
     "name": "stdout",
     "output_type": "stream",
     "text": [
      "school_name\n",
      "Bailey High School       66.680064\n",
      "Cabrera High School      94.133477\n",
      "Figueroa High School     65.988471\n",
      "Ford High School         68.309602\n",
      "Griffin High School      93.392371\n",
      "Hernandez High School    66.752967\n",
      "Holden High School       92.505855\n",
      "Huang High School        65.683922\n",
      "Johnson High School      66.057551\n",
      "Pena High School         94.594595\n",
      "Rodriguez High School    66.366592\n",
      "Shelton High School      93.867121\n",
      "Thomas High School       93.272171\n",
      "Wilson High School       93.867718\n",
      "Wright High School       93.333333\n",
      "Name: Student ID, dtype: float64\n"
     ]
    }
   ],
   "source": [
    "# # school_stu_passng_math_pct\n",
    "#school_stu_passng_math_pct = grouped_schools\n",
    "\n",
    "school_stu_passng_math = school_data_complete_df[school_data_complete_df[\"math_score\"] >= 70]\n",
    "#print(school_stu_passng_reading)\n",
    "\n",
    "school_passng_math_number = school_stu_passng_math.groupby([\"school_name\"])[\"Student ID\"].count()\n",
    "\n",
    "school_passng_math_pct = (school_passng_math_number)/(school_total_students) * 100\n",
    "print(school_passng_math_pct)"
   ]
  },
  {
   "cell_type": "code",
   "execution_count": null,
   "metadata": {},
   "outputs": [],
   "source": [
    "# # school_stu_passng_reading_pct\n",
    "# school_stu_passng_reading_pct = grouped_schools\n",
    "\n",
    "school_stu_passng_reading = school_data_complete_df[school_data_complete_df[\"reading_score\"] >= 70]\n",
    "#print(school_stu_passng_reading)\n",
    "\n",
    "school_passng_reading_number = school_stu_passng_reading.groupby([\"school_name\"])[\"Student ID\"].count()\n",
    "\n",
    "school_passng_reading_pct = (school_passng_reading_number)/(school_total_students) * 100\n",
    "print(school_passng_reading_pct)"
   ]
  },
  {
   "cell_type": "code",
   "execution_count": 44,
   "metadata": {},
   "outputs": [
    {
     "name": "stdout",
     "output_type": "stream",
     "text": [
      "school_name\n",
      "Bailey High School       54.642283\n",
      "Cabrera High School      91.334769\n",
      "Figueroa High School     53.204476\n",
      "Ford High School         54.289887\n",
      "Griffin High School      90.599455\n",
      "Hernandez High School    53.527508\n",
      "Holden High School       89.227166\n",
      "Huang High School        53.513884\n",
      "Johnson High School      53.539172\n",
      "Pena High School         90.540541\n",
      "Rodriguez High School    52.988247\n",
      "Shelton High School      89.892107\n",
      "Thomas High School       90.948012\n",
      "Wilson High School       90.582567\n",
      "Wright High School       90.333333\n",
      "Name: Student ID, dtype: float64\n"
     ]
    }
   ],
   "source": [
    "# # school_stu_overall_passng_pct\n",
    "# school_stu_overall_passng_pct = grouped_schools\n",
    "\n",
    "school_stu_passng_both = school_data_complete_df[(school_data_complete_df[\"math_score\"] >= 70) &\n",
    "                                          (school_data_complete_df[\"reading_score\"] >= 70)]\n",
    "#print(school_stu_passng_both)\n",
    "\n",
    "school_passng_both_number = school_stu_passng_both.groupby([\"school_name\"])[\"Student ID\"].count()\n",
    "#print(school_passng_both_number)\n",
    "\n",
    "school_passng_both_pct = (school_passng_both_number)/(school_total_students) * 100\n",
    "print(school_passng_both_pct)\n",
    "\n"
   ]
  },
  {
   "cell_type": "code",
   "execution_count": null,
   "metadata": {},
   "outputs": [],
   "source": [
    "stu_passng_both = school_data_complete_df.loc[(school_data_complete_df[\"math_score\"] >= 70) &\n",
    "                                          (school_data_complete_df[\"reading_score\"] >= 70)]\n",
    "#print(stu_passng_both)\n",
    "\n",
    "number_stu_overall_passng = stu_passng_both.count()\n",
    "#print (number_stu_overall_passng)\n",
    "stu_overall_passng_pct = (number_stu_overall_passng)/ (total_students)\n",
    "print(stu_overall_passng_pct)"
   ]
  },
  {
   "cell_type": "code",
   "execution_count": null,
   "metadata": {},
   "outputs": [],
   "source": []
  },
  {
   "cell_type": "code",
   "execution_count": 51,
   "metadata": {},
   "outputs": [
    {
     "data": {
      "text/html": [
       "<div>\n",
       "<style scoped>\n",
       "    .dataframe tbody tr th:only-of-type {\n",
       "        vertical-align: middle;\n",
       "    }\n",
       "\n",
       "    .dataframe tbody tr th {\n",
       "        vertical-align: top;\n",
       "    }\n",
       "\n",
       "    .dataframe thead th {\n",
       "        text-align: right;\n",
       "    }\n",
       "</style>\n",
       "<table border=\"1\" class=\"dataframe\">\n",
       "  <thead>\n",
       "    <tr style=\"text-align: right;\">\n",
       "      <th></th>\n",
       "      <th>School Type</th>\n",
       "      <th>Total Students</th>\n",
       "      <th>Total School Budget</th>\n",
       "      <th>Per Student Budget</th>\n",
       "      <th>AVG Math Score</th>\n",
       "      <th>AVG Reading Score</th>\n",
       "      <th>% Passing Math</th>\n",
       "      <th>% Passing Reading</th>\n",
       "      <th>% Overall Passing</th>\n",
       "    </tr>\n",
       "    <tr>\n",
       "      <th>school_name</th>\n",
       "      <th></th>\n",
       "      <th></th>\n",
       "      <th></th>\n",
       "      <th></th>\n",
       "      <th></th>\n",
       "      <th></th>\n",
       "      <th></th>\n",
       "      <th></th>\n",
       "      <th></th>\n",
       "    </tr>\n",
       "  </thead>\n",
       "  <tbody>\n",
       "    <tr>\n",
       "      <th>Bailey High School</th>\n",
       "      <td>[District]</td>\n",
       "      <td>4976</td>\n",
       "      <td>3124928</td>\n",
       "      <td>628.0</td>\n",
       "      <td>77.048432</td>\n",
       "      <td>81.033963</td>\n",
       "      <td>66.680064</td>\n",
       "      <td>81.933280</td>\n",
       "      <td>54.642283</td>\n",
       "    </tr>\n",
       "    <tr>\n",
       "      <th>Cabrera High School</th>\n",
       "      <td>[Charter]</td>\n",
       "      <td>1858</td>\n",
       "      <td>1081356</td>\n",
       "      <td>582.0</td>\n",
       "      <td>83.061895</td>\n",
       "      <td>83.975780</td>\n",
       "      <td>94.133477</td>\n",
       "      <td>97.039828</td>\n",
       "      <td>91.334769</td>\n",
       "    </tr>\n",
       "    <tr>\n",
       "      <th>Figueroa High School</th>\n",
       "      <td>[District]</td>\n",
       "      <td>2949</td>\n",
       "      <td>1884411</td>\n",
       "      <td>639.0</td>\n",
       "      <td>76.711767</td>\n",
       "      <td>81.158020</td>\n",
       "      <td>65.988471</td>\n",
       "      <td>80.739234</td>\n",
       "      <td>53.204476</td>\n",
       "    </tr>\n",
       "    <tr>\n",
       "      <th>Ford High School</th>\n",
       "      <td>[District]</td>\n",
       "      <td>2739</td>\n",
       "      <td>1763916</td>\n",
       "      <td>644.0</td>\n",
       "      <td>77.102592</td>\n",
       "      <td>80.746258</td>\n",
       "      <td>68.309602</td>\n",
       "      <td>79.299014</td>\n",
       "      <td>54.289887</td>\n",
       "    </tr>\n",
       "    <tr>\n",
       "      <th>Griffin High School</th>\n",
       "      <td>[Charter]</td>\n",
       "      <td>1468</td>\n",
       "      <td>917500</td>\n",
       "      <td>625.0</td>\n",
       "      <td>83.351499</td>\n",
       "      <td>83.816757</td>\n",
       "      <td>93.392371</td>\n",
       "      <td>97.138965</td>\n",
       "      <td>90.599455</td>\n",
       "    </tr>\n",
       "    <tr>\n",
       "      <th>Hernandez High School</th>\n",
       "      <td>[District]</td>\n",
       "      <td>4635</td>\n",
       "      <td>3022020</td>\n",
       "      <td>652.0</td>\n",
       "      <td>77.289752</td>\n",
       "      <td>80.934412</td>\n",
       "      <td>66.752967</td>\n",
       "      <td>80.862999</td>\n",
       "      <td>53.527508</td>\n",
       "    </tr>\n",
       "    <tr>\n",
       "      <th>Holden High School</th>\n",
       "      <td>[Charter]</td>\n",
       "      <td>427</td>\n",
       "      <td>248087</td>\n",
       "      <td>581.0</td>\n",
       "      <td>83.803279</td>\n",
       "      <td>83.814988</td>\n",
       "      <td>92.505855</td>\n",
       "      <td>96.252927</td>\n",
       "      <td>89.227166</td>\n",
       "    </tr>\n",
       "    <tr>\n",
       "      <th>Huang High School</th>\n",
       "      <td>[District]</td>\n",
       "      <td>2917</td>\n",
       "      <td>1910635</td>\n",
       "      <td>655.0</td>\n",
       "      <td>76.629414</td>\n",
       "      <td>81.182722</td>\n",
       "      <td>65.683922</td>\n",
       "      <td>81.316421</td>\n",
       "      <td>53.513884</td>\n",
       "    </tr>\n",
       "    <tr>\n",
       "      <th>Johnson High School</th>\n",
       "      <td>[District]</td>\n",
       "      <td>4761</td>\n",
       "      <td>3094650</td>\n",
       "      <td>650.0</td>\n",
       "      <td>77.072464</td>\n",
       "      <td>80.966394</td>\n",
       "      <td>66.057551</td>\n",
       "      <td>81.222432</td>\n",
       "      <td>53.539172</td>\n",
       "    </tr>\n",
       "    <tr>\n",
       "      <th>Pena High School</th>\n",
       "      <td>[Charter]</td>\n",
       "      <td>962</td>\n",
       "      <td>585858</td>\n",
       "      <td>609.0</td>\n",
       "      <td>83.839917</td>\n",
       "      <td>84.044699</td>\n",
       "      <td>94.594595</td>\n",
       "      <td>95.945946</td>\n",
       "      <td>90.540541</td>\n",
       "    </tr>\n",
       "  </tbody>\n",
       "</table>\n",
       "</div>"
      ],
      "text/plain": [
       "                      School Type  Total Students  Total School Budget  \\\n",
       "school_name                                                              \n",
       "Bailey High School     [District]            4976              3124928   \n",
       "Cabrera High School     [Charter]            1858              1081356   \n",
       "Figueroa High School   [District]            2949              1884411   \n",
       "Ford High School       [District]            2739              1763916   \n",
       "Griffin High School     [Charter]            1468               917500   \n",
       "Hernandez High School  [District]            4635              3022020   \n",
       "Holden High School      [Charter]             427               248087   \n",
       "Huang High School      [District]            2917              1910635   \n",
       "Johnson High School    [District]            4761              3094650   \n",
       "Pena High School        [Charter]             962               585858   \n",
       "\n",
       "                       Per Student Budget  AVG Math Score  AVG Reading Score  \\\n",
       "school_name                                                                    \n",
       "Bailey High School                  628.0       77.048432          81.033963   \n",
       "Cabrera High School                 582.0       83.061895          83.975780   \n",
       "Figueroa High School                639.0       76.711767          81.158020   \n",
       "Ford High School                    644.0       77.102592          80.746258   \n",
       "Griffin High School                 625.0       83.351499          83.816757   \n",
       "Hernandez High School               652.0       77.289752          80.934412   \n",
       "Holden High School                  581.0       83.803279          83.814988   \n",
       "Huang High School                   655.0       76.629414          81.182722   \n",
       "Johnson High School                 650.0       77.072464          80.966394   \n",
       "Pena High School                    609.0       83.839917          84.044699   \n",
       "\n",
       "                       % Passing Math  % Passing Reading  % Overall Passing  \n",
       "school_name                                                                  \n",
       "Bailey High School          66.680064          81.933280          54.642283  \n",
       "Cabrera High School         94.133477          97.039828          91.334769  \n",
       "Figueroa High School        65.988471          80.739234          53.204476  \n",
       "Ford High School            68.309602          79.299014          54.289887  \n",
       "Griffin High School         93.392371          97.138965          90.599455  \n",
       "Hernandez High School       66.752967          80.862999          53.527508  \n",
       "Holden High School          92.505855          96.252927          89.227166  \n",
       "Huang High School           65.683922          81.316421          53.513884  \n",
       "Johnson High School         66.057551          81.222432          53.539172  \n",
       "Pena High School            94.594595          95.945946          90.540541  "
      ]
     },
     "execution_count": 51,
     "metadata": {},
     "output_type": "execute_result"
    }
   ],
   "source": [
    "school_summary_df = pd.DataFrame(\n",
    "        {\n",
    "         \"School Type\": school_type,\n",
    "         \"Total Students\": school_total_students,\n",
    "         \"Total School Budget\": total_school_budget, \n",
    "         \"Per Student Budget\": per_student_budget,\n",
    "         \"AVG Math Score\": school_avg_math_score,\n",
    "         \"AVG Reading Score\": school_avg_reading_score,\n",
    "         \"% Passing Math\": school_passng_math_pct,\n",
    "         \"% Passing Reading\": school_passng_reading_pct,\n",
    "         \"% Overall Passing\": school_passng_both_pct\n",
    "         }\n",
    ")\n",
    "\n",
    "#[\"${:,.2f}\".format(total_budget)]\n",
    "\n",
    "#\"% Passing Math\": [\"{:,.2}\".format(school_passng_math_pct)],\n",
    "#\"% Passing Math\": [\"{:,.0%}\".format(school_passng_math_pct)],\n",
    "\n",
    "school_summary_df.head(10)"
   ]
  },
  {
   "cell_type": "code",
   "execution_count": null,
   "metadata": {},
   "outputs": [],
   "source": []
  },
  {
   "cell_type": "code",
   "execution_count": null,
   "metadata": {},
   "outputs": [],
   "source": [
    "#school_data_complete_df = school_data_complete_df.set_index(\"school_name\")\n",
    "# #school_data_complete_df = [[\"School Type\", \"Total Students\", \"Total School Budget\", \"Per Student Budget\"]]\n",
    "\n",
    "# organized_df = \n"
   ]
  },
  {
   "cell_type": "code",
   "execution_count": null,
   "metadata": {},
   "outputs": [],
   "source": []
  },
  {
   "cell_type": "code",
   "execution_count": null,
   "metadata": {},
   "outputs": [],
   "source": []
  },
  {
   "cell_type": "code",
   "execution_count": null,
   "metadata": {},
   "outputs": [],
   "source": []
  },
  {
   "cell_type": "code",
   "execution_count": null,
   "metadata": {},
   "outputs": [],
   "source": []
  },
  {
   "cell_type": "code",
   "execution_count": null,
   "metadata": {},
   "outputs": [],
   "source": []
  },
  {
   "cell_type": "code",
   "execution_count": null,
   "metadata": {},
   "outputs": [],
   "source": []
  },
  {
   "cell_type": "code",
   "execution_count": null,
   "metadata": {},
   "outputs": [],
   "source": []
  },
  {
   "cell_type": "code",
   "execution_count": null,
   "metadata": {},
   "outputs": [],
   "source": []
  },
  {
   "cell_type": "code",
   "execution_count": null,
   "metadata": {},
   "outputs": [],
   "source": []
  },
  {
   "cell_type": "code",
   "execution_count": null,
   "metadata": {},
   "outputs": [],
   "source": []
  },
  {
   "cell_type": "code",
   "execution_count": null,
   "metadata": {},
   "outputs": [],
   "source": []
  },
  {
   "cell_type": "code",
   "execution_count": null,
   "metadata": {},
   "outputs": [],
   "source": []
  },
  {
   "cell_type": "code",
   "execution_count": null,
   "metadata": {},
   "outputs": [],
   "source": []
  },
  {
   "cell_type": "code",
   "execution_count": null,
   "metadata": {},
   "outputs": [],
   "source": []
  },
  {
   "cell_type": "code",
   "execution_count": null,
   "metadata": {},
   "outputs": [],
   "source": []
  },
  {
   "cell_type": "markdown",
   "metadata": {},
   "source": [
    "## Top Performing Schools (By % Overall Passing)"
   ]
  },
  {
   "cell_type": "markdown",
   "metadata": {},
   "source": [
    "* Sort and display the top five performing schools by % overall passing."
   ]
  },
  {
   "cell_type": "code",
   "execution_count": null,
   "metadata": {
    "scrolled": true
   },
   "outputs": [],
   "source": []
  },
  {
   "cell_type": "markdown",
   "metadata": {},
   "source": [
    "## Bottom Performing Schools (By % Overall Passing)"
   ]
  },
  {
   "cell_type": "markdown",
   "metadata": {},
   "source": [
    "* Sort and display the five worst-performing schools by % overall passing."
   ]
  },
  {
   "cell_type": "code",
   "execution_count": null,
   "metadata": {},
   "outputs": [],
   "source": []
  },
  {
   "cell_type": "markdown",
   "metadata": {
    "collapsed": true
   },
   "source": [
    "## Math Scores by Grade"
   ]
  },
  {
   "cell_type": "markdown",
   "metadata": {},
   "source": [
    "* Create a table that lists the average Reading Score for students of each grade level (9th, 10th, 11th, 12th) at each school.\n",
    "\n",
    "  * Create a pandas series for each grade. Hint: use a conditional statement.\n",
    "  \n",
    "  * Group each series by school\n",
    "  \n",
    "  * Combine the series into a dataframe\n",
    "  \n",
    "  * Optional: give the displayed data cleaner formatting"
   ]
  },
  {
   "cell_type": "code",
   "execution_count": null,
   "metadata": {},
   "outputs": [],
   "source": []
  },
  {
   "cell_type": "code",
   "execution_count": null,
   "metadata": {},
   "outputs": [],
   "source": [
    "student_data.head()\n"
   ]
  },
  {
   "cell_type": "code",
   "execution_count": null,
   "metadata": {},
   "outputs": [],
   "source": []
  },
  {
   "cell_type": "code",
   "execution_count": null,
   "metadata": {},
   "outputs": [],
   "source": [
    "school_data.head()"
   ]
  },
  {
   "cell_type": "code",
   "execution_count": null,
   "metadata": {},
   "outputs": [],
   "source": []
  },
  {
   "cell_type": "code",
   "execution_count": null,
   "metadata": {},
   "outputs": [],
   "source": []
  },
  {
   "cell_type": "markdown",
   "metadata": {},
   "source": [
    "## Reading Score by Grade "
   ]
  },
  {
   "cell_type": "markdown",
   "metadata": {},
   "source": [
    "* Perform the same operations as above for reading scores"
   ]
  },
  {
   "cell_type": "code",
   "execution_count": null,
   "metadata": {},
   "outputs": [],
   "source": []
  },
  {
   "cell_type": "markdown",
   "metadata": {},
   "source": [
    "## Scores by School Spending"
   ]
  },
  {
   "cell_type": "markdown",
   "metadata": {},
   "source": [
    "* Create a table that breaks down school performances based on average Spending Ranges (Per Student). Use 4 reasonable bins to group school spending. Include in the table each of the following:\n",
    "  * Average Math Score\n",
    "  * Average Reading Score\n",
    "  * % Passing Math\n",
    "  * % Passing Reading\n",
    "  * Overall Passing Rate (Average of the above two)"
   ]
  },
  {
   "cell_type": "code",
   "execution_count": null,
   "metadata": {},
   "outputs": [],
   "source": []
  },
  {
   "cell_type": "markdown",
   "metadata": {},
   "source": [
    "## Scores by School Size"
   ]
  },
  {
   "cell_type": "markdown",
   "metadata": {},
   "source": [
    "* Perform the same operations as above, based on school size."
   ]
  },
  {
   "cell_type": "code",
   "execution_count": null,
   "metadata": {
    "scrolled": true
   },
   "outputs": [],
   "source": []
  },
  {
   "cell_type": "markdown",
   "metadata": {},
   "source": [
    "## Scores by School Type"
   ]
  },
  {
   "cell_type": "markdown",
   "metadata": {},
   "source": [
    "* Perform the same operations as above, based on school type"
   ]
  },
  {
   "cell_type": "code",
   "execution_count": null,
   "metadata": {},
   "outputs": [],
   "source": []
  }
 ],
 "metadata": {
  "anaconda-cloud": {},
  "kernel_info": {
   "name": "python3"
  },
  "kernelspec": {
   "display_name": "Python [conda env:PythonData] *",
   "language": "python",
   "name": "conda-env-PythonData-py"
  },
  "language_info": {
   "codemirror_mode": {
    "name": "ipython",
    "version": 3
   },
   "file_extension": ".py",
   "mimetype": "text/x-python",
   "name": "python",
   "nbconvert_exporter": "python",
   "pygments_lexer": "ipython3",
   "version": "3.6.10"
  },
  "latex_envs": {
   "LaTeX_envs_menu_present": true,
   "autoclose": false,
   "autocomplete": true,
   "bibliofile": "biblio.bib",
   "cite_by": "apalike",
   "current_citInitial": 1,
   "eqLabelWithNumbers": true,
   "eqNumInitial": 1,
   "hotkeys": {
    "equation": "Ctrl-E",
    "itemize": "Ctrl-I"
   },
   "labels_anchors": false,
   "latex_user_defs": false,
   "report_style_numbering": false,
   "user_envs_cfg": false
  },
  "nteract": {
   "version": "0.8.4"
  }
 },
 "nbformat": 4,
 "nbformat_minor": 1
}
